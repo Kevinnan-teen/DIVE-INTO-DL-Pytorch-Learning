{
 "cells": [
  {
   "cell_type": "code",
   "execution_count": 31,
   "metadata": {},
   "outputs": [],
   "source": [
    "import torch\n",
    "import time\n",
    "import torchvision\n",
    "import torchvision.transforms as transforms\n",
    "from torch import nn\n",
    "from torch.nn import init\n",
    "import numpy as np\n",
    "import sys\n",
    "import torch.nn.functional as func"
   ]
  },
  {
   "cell_type": "code",
   "execution_count": 32,
   "metadata": {},
   "outputs": [],
   "source": [
    "class net(nn.Module):\n",
    "    def __init__(self):\n",
    "        super(net, self).__init__()\n",
    "        self.conv1 = nn.Conv2d(3, 64, 1)\n",
    "        self.conv2 = nn.Conv2d(64, 64, 1)\n",
    "        self.conv3 = nn.Conv2d(64, 64, 1)\n",
    "        self.conv4 = nn.Conv2d(64, 64, 1)\n",
    "        self.conv5 = nn.Conv2d(64, 64, 1)\n",
    "    def forward(self, x):\n",
    "        out = conv5(conv4(conv3(conv2(conv1(x)))))\n",
    "        return out\n"
   ]
  },
  {
   "cell_type": "code",
   "execution_count": 34,
   "metadata": {},
   "outputs": [
    {
     "name": "stdout",
     "output_type": "stream",
     "text": [
      "[140618843217208, 140618843217280]\n",
      "<filter object at 0x7fe460a32048>\n",
      "SGD (\n",
      "Parameter Group 0\n",
      "    dampening: 0\n",
      "    lr: 0.001\n",
      "    momentum: 0.9\n",
      "    nesterov: False\n",
      "    weight_decay: 0\n",
      "\n",
      "Parameter Group 1\n",
      "    dampening: 0\n",
      "    lr: 0.1\n",
      "    momentum: 0.9\n",
      "    nesterov: False\n",
      "    weight_decay: 2\n",
      ")\n"
     ]
    }
   ],
   "source": [
    "net = net()\n",
    "lr = 0.001\n",
    "conv5_params = list(map(id, net.conv5.parameters()))\n",
    "print(conv5_params)\n",
    "base_params = filter(lambda p: id(p) not in conv5_params,\n",
    "                     net.parameters())\n",
    "print(base_params)\n",
    "optimizer = torch.optim.SGD([\n",
    "            {'params': base_params},\n",
    "            {'params': net.conv5.parameters(), 'lr': lr * 100 , \"weight_decay\" :2} ], lr=lr, momentum=0.9)\n",
    "print(optimizer)"
   ]
  },
  {
   "cell_type": "code",
   "execution_count": null,
   "metadata": {},
   "outputs": [],
   "source": [
    "conv5_params = list(map(id, net.conv5.parameters()))\n",
    "conv4_params = list(map(id, net.conv4.parameters()))\n",
    "base_params = filter(lambda p: id(p) not in conv5_params + conv4_params,\n",
    "                     net.parameters())\n",
    "optimizer = torch.optim.SGD([\n",
    "            {'params': base_params},\n",
    "            {'params': net.conv5.parameters(), 'lr': lr * 100},\n",
    "            {'params': net.conv4.parameters(), 'lr': lr * 100},\n",
    "            , lr=lr, momentum=0.9)\n"
   ]
  },
  {
   "cell_type": "code",
   "execution_count": null,
   "metadata": {},
   "outputs": [],
   "source": []
  }
 ],
 "metadata": {
  "kernelspec": {
   "display_name": "Python 3",
   "language": "python",
   "name": "python3"
  },
  "language_info": {
   "codemirror_mode": {
    "name": "ipython",
    "version": 3
   },
   "file_extension": ".py",
   "mimetype": "text/x-python",
   "name": "python",
   "nbconvert_exporter": "python",
   "pygments_lexer": "ipython3",
   "version": "3.5.2"
  }
 },
 "nbformat": 4,
 "nbformat_minor": 2
}
