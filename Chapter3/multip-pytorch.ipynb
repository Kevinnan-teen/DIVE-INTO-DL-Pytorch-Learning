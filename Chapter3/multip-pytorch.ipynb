{
 "cells": [
  {
   "cell_type": "markdown",
   "metadata": {},
   "source": [
    "## 多层感知机实现"
   ]
  },
  {
   "cell_type": "code",
   "execution_count": 22,
   "metadata": {},
   "outputs": [],
   "source": [
    "import torch\n",
    "import time\n",
    "import torchvision\n",
    "import torchvision.transforms as transforms\n",
    "from torch import nn\n",
    "from torch.nn import init\n",
    "import numpy as np\n",
    "import sys\n",
    "import torch.nn.functional as func"
   ]
  },
  {
   "cell_type": "markdown",
   "metadata": {},
   "source": [
    "### 读取数据"
   ]
  },
  {
   "cell_type": "code",
   "execution_count": 30,
   "metadata": {},
   "outputs": [],
   "source": [
    "def load_dataset(dataSet, batch_size=64):\n",
    "    if sys.platform.startswith('win'):\n",
    "        num_workers = 0  # 0表示不用额外的进程来加速读取数据\n",
    "    else:\n",
    "        num_workers = 4\n",
    "        print('linux')\n",
    "    dataset_iter = torch.utils.data.DataLoader(dataSet, pin_memory=False, batch_size=batch_size, shuffle=True, num_workers=num_workers)\n",
    "    return dataset_iter"
   ]
  },
  {
   "cell_type": "markdown",
   "metadata": {},
   "source": [
    "### 评价准确率"
   ]
  },
  {
   "cell_type": "code",
   "execution_count": 31,
   "metadata": {},
   "outputs": [],
   "source": [
    "def evaluate_accuracy(data_iter, net):\n",
    "    acc_sum, n = 0.0, 0\n",
    "    for X, y in data_iter:\n",
    "        X = X.cuda()\n",
    "        y = y.cuda()\n",
    "        acc_sum += (net(X).argmax(dim=1) == y).float().sum().item()\n",
    "        n += y.shape[0]\n",
    "    return acc_sum / n"
   ]
  },
  {
   "cell_type": "markdown",
   "metadata": {},
   "source": [
    "### 定义模型"
   ]
  },
  {
   "cell_type": "code",
   "execution_count": 32,
   "metadata": {},
   "outputs": [],
   "source": [
    "class multilp(nn.Module):\n",
    "    def __init__(self, num_input, num_hidelayer1, num_output):\n",
    "        super(multilp, self).__init__()\n",
    "        self.hidelayer1 = nn.Linear(num_input, num_hidelayer1)\n",
    "        self.outputlayer = nn.Linear(num_hidelayer1, num_output)\n",
    "    def forward(self, x):\n",
    "        x1 = func.relu(self.hidelayer1(x.view(x.shape[0], -1)))\n",
    "        y = self.outputlayer(x1)\n",
    "        return y"
   ]
  },
  {
   "cell_type": "markdown",
   "metadata": {},
   "source": [
    "### 模型训练"
   ]
  },
  {
   "cell_type": "code",
   "execution_count": 33,
   "metadata": {},
   "outputs": [],
   "source": [
    "def training_loop(net, loss, optimizer, num_epochs, train_dataset, test_dataset, batch_size):\n",
    "    train_iter = load_dataset(train_dataset, batch_size)\n",
    "    test_iter = load_dataset(test_dataset, batch_size)\n",
    "    for epoch in range(num_epochs):\n",
    "        train_l_sum, train_acc_sum, n = 0.0, 0.0, 0\n",
    "        for X, y in train_iter:\n",
    "            # print(X.device)\n",
    "            X = X.cuda()\n",
    "            y = y.cuda()\n",
    "            y_hat = net(X)           # 前向传播  \n",
    "            l = loss(y_hat, y).sum() # 计算损失\n",
    "            optimizer.zero_grad()    # 梯度清零\n",
    "            l.backward()             # 后向传播\n",
    "            optimizer.step()         # 更新参数\n",
    "\n",
    "            train_l_sum += l.item()\n",
    "            train_acc_sum += (y_hat.argmax(dim=1) == y).sum().item()\n",
    "            n += y.shape[0]\n",
    "        test_acc = evaluate_accuracy(test_iter, net)\n",
    "        print('epoch %d, loss %.4f, train acc %.3f, test acc %.3f'\n",
    "              % (epoch + 1, train_l_sum / n, train_acc_sum / n, test_acc))"
   ]
  },
  {
   "cell_type": "code",
   "execution_count": 34,
   "metadata": {},
   "outputs": [
    {
     "name": "stdout",
     "output_type": "stream",
     "text": [
      "将模型迁移到cuda\n",
      "multilp(\n",
      "  (hidelayer1): Linear(in_features=784, out_features=256, bias=True)\n",
      "  (outputlayer): Linear(in_features=256, out_features=10, bias=True)\n",
      ")\n",
      "Parameter containing:\n",
      "tensor([[-0.1011,  0.0704, -0.0215,  ...,  0.0023, -0.0231, -0.1040],\n",
      "        [ 0.2050,  0.0217, -0.1322,  ...,  0.0841, -0.0210,  0.0020],\n",
      "        [ 0.0098, -0.1039, -0.0114,  ..., -0.0629,  0.0297, -0.0299],\n",
      "        ...,\n",
      "        [-0.0128,  0.1151,  0.1843,  ...,  0.0783,  0.1147,  0.0758],\n",
      "        [ 0.0070,  0.1260,  0.0647,  ..., -0.2231,  0.0172,  0.0034],\n",
      "        [ 0.1976, -0.0438,  0.0795,  ..., -0.1130, -0.1027, -0.0872]],\n",
      "       device='cuda:0', requires_grad=True)\n",
      "Parameter containing:\n",
      "tensor([ 5.4432e-02, -8.0620e-02, -8.2507e-02, -2.1078e-02, -4.0511e-02,\n",
      "        -5.3818e-03, -8.0918e-02, -2.7570e-02,  4.6572e-02, -1.4870e-01,\n",
      "         8.7426e-02, -5.3194e-03,  5.6638e-03, -3.9338e-02, -1.5680e-02,\n",
      "        -4.3042e-02,  1.2731e-01, -1.0435e-01,  6.9241e-02, -1.5639e-01,\n",
      "         2.2956e-02,  1.1096e-01, -2.1404e-01, -5.8068e-02,  1.7924e-01,\n",
      "        -2.7635e-01,  3.2860e-02,  9.5579e-02,  5.7307e-02, -3.3929e-04,\n",
      "         1.0304e-02, -7.9039e-02,  1.5834e-02,  1.6861e-01, -1.9123e-01,\n",
      "         5.6124e-02,  1.9577e-02, -7.9337e-02,  3.1803e-03, -2.3401e-02,\n",
      "        -9.1359e-02, -6.5147e-02,  2.1091e-02, -4.3636e-02,  1.3949e-01,\n",
      "        -4.0856e-02,  1.6260e-01, -1.9757e-02, -2.1088e-02, -2.1904e-02,\n",
      "        -2.1120e-03,  8.5683e-02,  1.4238e-01,  6.3369e-02,  4.4742e-02,\n",
      "        -9.1129e-02, -3.8446e-02,  1.1341e-01,  1.7956e-01, -9.4761e-02,\n",
      "        -5.4729e-03,  3.4386e-02,  1.4694e-01, -8.3398e-02, -1.8035e-02,\n",
      "        -9.7682e-02,  3.8032e-02, -1.5511e-01,  1.0747e-01, -5.7248e-02,\n",
      "        -1.0286e-01,  3.8925e-02,  1.7440e-02,  7.7026e-02,  6.7226e-02,\n",
      "         1.4566e-01,  6.7000e-02,  5.9831e-03,  6.4047e-04,  7.6866e-02,\n",
      "         4.7224e-02, -2.2152e-01, -9.3620e-02, -6.4794e-02, -2.7828e-02,\n",
      "        -2.2455e-01, -1.9254e-01, -8.1580e-02, -3.0336e-02, -7.5069e-02,\n",
      "        -1.3022e-02, -1.5886e-01,  1.1229e-01, -1.3066e-02,  7.5226e-02,\n",
      "        -1.2962e-01,  3.1254e-01,  5.8733e-02, -1.1143e-01,  9.0581e-02,\n",
      "         4.9536e-04,  1.3472e-01, -1.8634e-02, -3.2398e-02, -2.4896e-01,\n",
      "         1.6392e-01,  8.7212e-02, -5.5564e-02, -3.3126e-02, -1.3927e-02,\n",
      "        -1.1162e-02, -9.1787e-02, -4.2379e-03, -9.4920e-02,  1.7607e-01,\n",
      "        -1.5069e-01,  2.2506e-01,  1.0043e-02, -8.5477e-02,  4.6649e-02,\n",
      "         9.3982e-02,  1.8284e-02,  1.6822e-02,  7.1492e-02, -6.5347e-02,\n",
      "        -2.5260e-01,  1.7412e-02, -8.0447e-02,  6.3401e-02, -1.5986e-01,\n",
      "        -1.0306e-01,  1.6283e-01,  9.5596e-02, -9.7044e-02,  1.6954e-02,\n",
      "         8.6693e-02,  1.5673e-04, -9.9411e-02, -9.0023e-02, -1.3329e-01,\n",
      "        -3.3640e-02, -5.9906e-02,  7.9158e-02, -1.3488e-02, -7.6406e-02,\n",
      "         1.5524e-01,  1.0467e-01, -8.1927e-02,  1.5323e-01, -2.7927e-02,\n",
      "        -3.4645e-02, -2.7539e-02,  4.3715e-03, -1.6672e-01,  1.3786e-01,\n",
      "        -1.1825e-02, -7.7638e-03,  4.4275e-03,  8.3574e-02,  1.4181e-01,\n",
      "        -2.2064e-01, -4.7481e-02,  1.1124e-01,  8.3376e-02,  3.7210e-02,\n",
      "         1.9788e-01,  4.5123e-02, -4.8552e-02,  2.6322e-03, -7.1273e-02,\n",
      "        -2.2020e-03,  1.1507e-01, -8.7535e-02, -5.6248e-02, -7.6902e-02,\n",
      "         1.3132e-01,  1.8605e-01,  2.8874e-02,  1.0027e-01,  2.0867e-02,\n",
      "         4.4284e-02,  7.0265e-02,  1.0933e-01,  4.4710e-02,  3.7233e-02,\n",
      "         7.9327e-02, -1.1227e-02, -3.3246e-03, -7.0172e-02,  3.5725e-02,\n",
      "         1.4676e-02,  9.5230e-02,  5.0094e-02,  1.7619e-01, -2.0405e-02,\n",
      "         1.2357e-01,  8.4601e-02,  6.0681e-02,  3.8963e-02,  1.1835e-02,\n",
      "        -1.6478e-01,  1.0968e-01,  1.4177e-01, -1.1536e-01, -5.4679e-02,\n",
      "         1.1183e-01, -2.4666e-02,  1.0991e-01,  1.4337e-01,  1.2972e-01,\n",
      "        -2.7975e-02, -1.1005e-01,  4.7936e-02, -1.0643e-01,  1.2116e-01,\n",
      "         1.3112e-01, -1.3002e-01, -5.7623e-02,  1.2318e-01, -1.7107e-01,\n",
      "         1.8882e-01,  1.7792e-02,  1.1174e-01, -5.6348e-02, -4.0986e-02,\n",
      "         2.4614e-02, -9.9598e-03, -6.8308e-02,  1.1638e-01, -1.3389e-01,\n",
      "         3.2792e-02, -2.1206e-02, -1.8922e-01, -7.1939e-02,  1.7876e-01,\n",
      "        -1.2964e-01,  3.8321e-02,  3.6116e-02, -7.1584e-02, -1.2307e-02,\n",
      "         6.5804e-02,  1.2815e-01, -4.1984e-02, -5.7462e-02,  1.2030e-02,\n",
      "         6.8069e-02, -2.4418e-02,  4.7116e-02, -5.9435e-03, -4.3164e-02,\n",
      "         5.2183e-02,  1.4332e-01, -4.0211e-02,  8.3297e-02,  1.8332e-01,\n",
      "         1.2511e-01], device='cuda:0', requires_grad=True)\n",
      "Parameter containing:\n",
      "tensor([[-0.0593,  0.0015, -0.0778,  ...,  0.0123,  0.0032,  0.0629],\n",
      "        [-0.0550, -0.1833,  0.0131,  ..., -0.1291, -0.1206, -0.0167],\n",
      "        [ 0.0258, -0.1142, -0.0296,  ...,  0.2115, -0.0236,  0.0029],\n",
      "        ...,\n",
      "        [ 0.1159,  0.1588,  0.0781,  ..., -0.0234, -0.0208, -0.0753],\n",
      "        [ 0.2023, -0.0214,  0.0657,  ...,  0.0411,  0.1961, -0.1519],\n",
      "        [-0.1572, -0.1193,  0.0037,  ..., -0.0190, -0.1411, -0.1219]],\n",
      "       device='cuda:0', requires_grad=True)\n",
      "Parameter containing:\n",
      "tensor([-0.0050, -0.0497,  0.0569,  0.0105,  0.0415, -0.0521, -0.0620, -0.0834,\n",
      "        -0.0568,  0.0210], device='cuda:0', requires_grad=True)\n",
      "linux\n",
      "linux\n",
      "epoch 1, loss 0.0087, train acc 0.806, test acc 0.817\n",
      "epoch 2, loss 0.0064, train acc 0.855, test acc 0.847\n",
      "epoch 3, loss 0.0058, train acc 0.867, test acc 0.851\n",
      "epoch 4, loss 0.0054, train acc 0.875, test acc 0.858\n",
      "epoch 5, loss 0.0052, train acc 0.880, test acc 0.863\n",
      "epoch 6, loss 0.0049, train acc 0.885, test acc 0.868\n",
      "epoch 7, loss 0.0047, train acc 0.889, test acc 0.873\n",
      "epoch 8, loss 0.0045, train acc 0.893, test acc 0.876\n",
      "epoch 9, loss 0.0044, train acc 0.898, test acc 0.862\n",
      "epoch 10, loss 0.0043, train acc 0.900, test acc 0.848\n",
      " 32.041253 sec.\n"
     ]
    }
   ],
   "source": [
    "if __name__ == '__main__':\n",
    "    savePath = './Fashion-MNIST/'\n",
    "    mnist_train = torchvision.datasets.FashionMNIST(root=savePath, train=True, download=True, transform=transforms.ToTensor())\n",
    "    mnist_test = torchvision.datasets.FashionMNIST(root=savePath, train=False, download=True, transform=transforms.ToTensor())\n",
    "    \n",
    "    # 初始化模型参数\n",
    "    num_input = 784\n",
    "    num_hidelayer1 = 256\n",
    "    num_output = 10\n",
    "    net1 = multilp(num_input, num_hidelayer1, num_output)\n",
    "    cuda_gpu = torch.cuda.is_available()   #判断GPU是否存在可用\n",
    "    if cuda_gpu:\n",
    "        print(\"将模型迁移到cuda\")\n",
    "        torch.nn.DataParallel(net1, device_ids=[0]).cuda()\n",
    "    for param in net1.parameters():\n",
    "        init.normal_(param, mean=0, std=0.1)\n",
    "    print(net1)  \n",
    "    for param in net1.parameters():\n",
    "        print(param)\n",
    "    n_epochs=10\n",
    "    optimizer = torch.optim.SGD(net1.parameters(), lr = 0.1)\n",
    "    loss = torch.nn.CrossEntropyLoss(size_average=True)\n",
    "    start = time.time()\n",
    "    training_loop(net=net1, loss=loss, optimizer=optimizer, num_epochs=n_epochs, \n",
    "                train_dataset=mnist_train, test_dataset=mnist_test, batch_size=64)\n",
    "    \n",
    "    print(' %2f sec.' % (time.time() - start))"
   ]
  },
  {
   "cell_type": "code",
   "execution_count": null,
   "metadata": {},
   "outputs": [],
   "source": []
  },
  {
   "cell_type": "code",
   "execution_count": null,
   "metadata": {},
   "outputs": [],
   "source": []
  },
  {
   "cell_type": "code",
   "execution_count": null,
   "metadata": {},
   "outputs": [],
   "source": []
  },
  {
   "cell_type": "code",
   "execution_count": null,
   "metadata": {},
   "outputs": [],
   "source": []
  }
 ],
 "metadata": {
  "kernelspec": {
   "display_name": "Python 3",
   "language": "python",
   "name": "python3"
  },
  "language_info": {
   "codemirror_mode": {
    "name": "ipython",
    "version": 3
   },
   "file_extension": ".py",
   "mimetype": "text/x-python",
   "name": "python",
   "nbconvert_exporter": "python",
   "pygments_lexer": "ipython3",
   "version": "3.5.2"
  }
 },
 "nbformat": 4,
 "nbformat_minor": 2
}
