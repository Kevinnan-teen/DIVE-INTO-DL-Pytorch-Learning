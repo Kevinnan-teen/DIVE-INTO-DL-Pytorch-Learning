{
 "cells": [
  {
   "cell_type": "code",
   "execution_count": 20,
   "metadata": {},
   "outputs": [
    {
     "name": "stdout",
     "output_type": "stream",
     "text": [
      "1.3.1\n"
     ]
    }
   ],
   "source": [
    "import torch\n",
    "import numpy as np\n",
    "import pandas as pd\n",
    "import sklearn.preprocessing as preprocessing\n",
    "print(torch.__version__)"
   ]
  },
  {
   "cell_type": "markdown",
   "metadata": {},
   "source": [
    "### 读取数据并对数据进行预处理"
   ]
  },
  {
   "cell_type": "code",
   "execution_count": 30,
   "metadata": {},
   "outputs": [],
   "source": [
    "def load_preprocess_data():\n",
    "    trainDataPath = \"../data/kaggle_house/train.csv\"          # 训练集包含1460个样本，每个样本有80个特征，一个label\n",
    "    testDataPath = \"../data/kaggle_house/test.csv\"            # 测试集包含1460个样本，每个样本有80个特征，一个label\n",
    "    trainData = pd.read_csv(trainDataPath)\n",
    "    testData = pd.read_csv(testDataPath)\n",
    "    train_features = trainData.iloc[:, 1:-1]\n",
    "    test_features = testData.iloc[:, 1:]\n",
    "    #print(train_features.iloc[:5, :])\n",
    "    #print(test_features.iloc[:5, :])\n",
    "    #print(train_features.shape, test_features.shape)\n",
    "    all_features = pd.concat((train_features, test_features))  # 同时对训练集和测试集的数据进行预处理\n",
    "    #print(all_features.shape)\n",
    "    #print(all_features)\n",
    "    numical_features_index = all_features.dtypes[all_features.dtypes != 'object'].index    # 数值的dtypes非object类型，string.dtypes = 'object'\n",
    "    #print(all_features.dtypes)\n",
    "    #print(len(numical_features))\n",
    "    #print(all_features[numical_features_index].shape)\n",
    "    #将数值型特征归一化处理\n",
    "    scaler = preprocessing.StandardScaler()\n",
    "    all_features[numical_features_index] = standard_features = scaler.fit_transform(all_features[numical_features_index])\n",
    "    all_features[numical_features_index] = all_features[numical_features_index].fillna(0)\n",
    "    #print(all_features.iloc[:5, 1:10])\n",
    "    object_features_index = all_features.dtypes[all_features.dtypes == 'object'].index\n",
    "    #print(all_features[object_features_index].info())\n",
    "    # dummy_na=True将缺失值也当作合法的特征值并为其创建指示特征\n",
    "    all_features = pd.get_dummies(all_features, dummy_na=True)\n",
    "    print(all_features.info())\n",
    "    print(trainData.SalePrice[:10])\n",
    "    # 将预处理后的数据转换为tensor\n",
    "    train_features = torch.tensor(all_features[:trainData.shape[0]].values, dtype=torch.float).cuda()\n",
    "    print(train_features)\n",
    "    train_labels = torch.tensor(trainData.SalePrice.values, dtype=torch.float).view(-1, 1).cuda()\n",
    "    print(train_labels)\n",
    "    test_features = torch.tensor(all_features[trainData.shape[0]:].values, dtype=torch.float).cuda()\n",
    "    print(test_features)\n",
    "    return train_features, train_labels, test_features"
   ]
  },
  {
   "cell_type": "code",
   "execution_count": 31,
   "metadata": {},
   "outputs": [
    {
     "name": "stdout",
     "output_type": "stream",
     "text": [
      "<class 'pandas.core.frame.DataFrame'>\n",
      "Int64Index: 2919 entries, 0 to 1458\n",
      "Columns: 331 entries, MSSubClass to SaleCondition_nan\n",
      "dtypes: float64(36), uint8(295)\n",
      "memory usage: 1.6 MB\n",
      "None\n",
      "0    208500\n",
      "1    181500\n",
      "2    223500\n",
      "3    140000\n",
      "4    250000\n",
      "5    143000\n",
      "6    307000\n",
      "7    200000\n",
      "8    129900\n",
      "9    118000\n",
      "Name: SalePrice, dtype: int64\n",
      "tensor([[ 0.0673, -0.1845, -0.2179,  ...,  1.0000,  0.0000,  0.0000],\n",
      "        [-0.8736,  0.4582, -0.0720,  ...,  1.0000,  0.0000,  0.0000],\n",
      "        [ 0.0673, -0.0559,  0.1372,  ...,  1.0000,  0.0000,  0.0000],\n",
      "        ...,\n",
      "        [ 0.3026, -0.1416, -0.1428,  ...,  1.0000,  0.0000,  0.0000],\n",
      "        [-0.8736, -0.0559, -0.0572,  ...,  1.0000,  0.0000,  0.0000],\n",
      "        [-0.8736,  0.2440, -0.0293,  ...,  1.0000,  0.0000,  0.0000]],\n",
      "       device='cuda:0')\n",
      "tensor([[208500.],\n",
      "        [181500.],\n",
      "        [223500.],\n",
      "        ...,\n",
      "        [266500.],\n",
      "        [142125.],\n",
      "        [147500.]], device='cuda:0')\n",
      "tensor([[-0.8736,  0.4582,  0.1844,  ...,  1.0000,  0.0000,  0.0000],\n",
      "        [-0.8736,  0.5010,  0.5198,  ...,  1.0000,  0.0000,  0.0000],\n",
      "        [ 0.0673,  0.2011,  0.4644,  ...,  1.0000,  0.0000,  0.0000],\n",
      "        ...,\n",
      "        [-0.8736,  3.8858,  1.2468,  ...,  0.0000,  0.0000,  0.0000],\n",
      "        [ 0.6554, -0.3130,  0.0346,  ...,  1.0000,  0.0000,  0.0000],\n",
      "        [ 0.0673,  0.2011, -0.0686,  ...,  1.0000,  0.0000,  0.0000]],\n",
      "       device='cuda:0')\n",
      "tensor([[208500.],\n",
      "        [181500.],\n",
      "        [223500.],\n",
      "        [140000.],\n",
      "        [250000.],\n",
      "        [143000.],\n",
      "        [307000.],\n",
      "        [200000.],\n",
      "        [129900.],\n",
      "        [118000.]], device='cuda:0')\n"
     ]
    }
   ],
   "source": [
    "train_features, train_labels, test_features = load_preprocess_data()\n",
    "print(train_labels[:10])"
   ]
  },
  {
   "cell_type": "markdown",
   "metadata": {},
   "source": [
    "### 定义模型"
   ]
  },
  {
   "cell_type": "code",
   "execution_count": 32,
   "metadata": {},
   "outputs": [],
   "source": [
    "class LinearModel(torch.nn.Module):\n",
    "    def __init__(self, num_input, num_output):\n",
    "        super(LinearModel, self).__init__()\n",
    "        self.linear = torch.nn.Linear(num_input, num_output)\n",
    "    def forward(self, x):\n",
    "        y = self.linear(x)\n",
    "        return y"
   ]
  },
  {
   "cell_type": "markdown",
   "metadata": {},
   "source": [
    "### 定义损失函数"
   ]
  },
  {
   "cell_type": "code",
   "execution_count": 33,
   "metadata": {},
   "outputs": [],
   "source": [
    "loss = torch.nn.MSELoss()"
   ]
  },
  {
   "cell_type": "markdown",
   "metadata": {},
   "source": [
    "### 对数均方根误差"
   ]
  },
  {
   "cell_type": "code",
   "execution_count": 34,
   "metadata": {},
   "outputs": [],
   "source": [
    "def log_rmse(pre_labels, labels):\n",
    "    #将小于1.0的值设为１，使数值稳定\n",
    "    pre_labels = torch.max(pre_labels, torch.tensor(1.0).cuda())\n",
    "    rmse = torch.sqrt(2 * loss(pre_labels.log(), labels.log()).mean()).cuda()\n",
    "    return rmse.item()"
   ]
  },
  {
   "cell_type": "markdown",
   "metadata": {},
   "source": [
    "### 训练模型"
   ]
  },
  {
   "cell_type": "code",
   "execution_count": 47,
   "metadata": {},
   "outputs": [],
   "source": [
    "def training_loop(net, nepochs, train_data, train_labels, test_data, test_labels, batch_size=64):\n",
    "    dataset = torch.utils.data.TensorDataset(train_data, train_labels)\n",
    "    train_iter = torch.utils.data.DataLoader(dataset, batch_size, shuffle=True, pin_memory=False)\n",
    "    train_ls, test_ls = 0, 0\n",
    "    net = net.float()\n",
    "    optimizer = torch.optim.Adam(params=net.parameters(), lr=5, weight_decay=1)\n",
    "    for epoch in range(nepochs):\n",
    "        for X, y in train_iter:\n",
    "            y_pre = net(X)\n",
    "            l = loss(y_pre, y)\n",
    "            optimizer.zero_grad()\n",
    "            l.backward()\n",
    "            optimizer.step()\n",
    "        train_ls = log_rmse(y_pre, y)\n",
    "        test_ls = log_rmse(net(test_data), test_labels)\n",
    "    print('epoch: %d, train_ls: %2f, test_ls: %2f' % (epoch, train_ls, test_ls))\n",
    "    return train_ls, test_ls"
   ]
  },
  {
   "cell_type": "markdown",
   "metadata": {},
   "source": [
    "### 得到第i个Ｋ折交叉验证集数据"
   ]
  },
  {
   "cell_type": "code",
   "execution_count": 48,
   "metadata": {},
   "outputs": [],
   "source": [
    "def get_k_fold_data(k, i, X, y):\n",
    "    # 返回第i折交叉验证时所需要的训练和验证数据\n",
    "    assert k > 1\n",
    "    fold_size = X.shape[0] // k\n",
    "    X_train, y_train = None, None\n",
    "    for j in range(k):\n",
    "        idx = slice(j * fold_size, (j + 1) * fold_size)\n",
    "        X_part, y_part = X[idx, :], y[idx]\n",
    "        if j == i:\n",
    "            X_valid, y_valid = X_part, y_part\n",
    "        elif X_train is None:\n",
    "            X_train, y_train = X_part, y_part\n",
    "        else:\n",
    "            X_train = torch.cat((X_train, X_part), dim=0)\n",
    "            y_train = torch.cat((y_train, y_part), dim=0)\n",
    "    return X_train, y_train, X_valid, y_valid"
   ]
  },
  {
   "cell_type": "markdown",
   "metadata": {},
   "source": [
    "### K折交叉验证"
   ]
  },
  {
   "cell_type": "code",
   "execution_count": 49,
   "metadata": {},
   "outputs": [],
   "source": [
    "def get_net(feature_num):\n",
    "    net = torch.nn.Linear(feature_num, 1)\n",
    "    for param in net.parameters():\n",
    "        torch.nn.init.normal_(param, mean=0, std=0.01)\n",
    "    return net\n",
    "\n",
    "def k_fold(k, X, y):\n",
    "    train_l_sum, valid_l_sum = 0.0, 0.0\n",
    "    for i in range(k):\n",
    "        train_data, train_labels, test_data, test_labels = get_k_fold_data(k, i, X, y)\n",
    "        \n",
    "        # net = LinearModel(X.shape[1], 1)\n",
    "        net = get_net(X.shape[1])\n",
    "        cuda_gpu = torch.cuda.is_available()   #判断GPU是否存在可用\n",
    "        if cuda_gpu:\n",
    "            print(\"将模型迁移到cuda\")\n",
    "            torch.nn.DataParallel(net, device_ids=[0]).cuda()\n",
    "        for param in net.parameters():\n",
    "            torch.nn.init.normal_(param, mean=0, std=0.1)\n",
    "        train_ls, test_ls = training_loop(net, 100, \n",
    "                                          train_data, train_labels, test_data, test_labels, batch_size=64)\n",
    "        train_l_sum += train_ls\n",
    "        valid_l_sum += test_ls\n",
    "    return train_l_sum / k, valid_l_sum / k"
   ]
  },
  {
   "cell_type": "code",
   "execution_count": 50,
   "metadata": {},
   "outputs": [
    {
     "name": "stdout",
     "output_type": "stream",
     "text": [
      "<class 'pandas.core.frame.DataFrame'>\n",
      "Int64Index: 2919 entries, 0 to 1458\n",
      "Columns: 331 entries, MSSubClass to SaleCondition_nan\n",
      "dtypes: float64(36), uint8(295)\n",
      "memory usage: 1.6 MB\n",
      "None\n",
      "0    208500\n",
      "1    181500\n",
      "2    223500\n",
      "3    140000\n",
      "4    250000\n",
      "5    143000\n",
      "6    307000\n",
      "7    200000\n",
      "8    129900\n",
      "9    118000\n",
      "Name: SalePrice, dtype: int64\n",
      "tensor([[ 0.0673, -0.1845, -0.2179,  ...,  1.0000,  0.0000,  0.0000],\n",
      "        [-0.8736,  0.4582, -0.0720,  ...,  1.0000,  0.0000,  0.0000],\n",
      "        [ 0.0673, -0.0559,  0.1372,  ...,  1.0000,  0.0000,  0.0000],\n",
      "        ...,\n",
      "        [ 0.3026, -0.1416, -0.1428,  ...,  1.0000,  0.0000,  0.0000],\n",
      "        [-0.8736, -0.0559, -0.0572,  ...,  1.0000,  0.0000,  0.0000],\n",
      "        [-0.8736,  0.2440, -0.0293,  ...,  1.0000,  0.0000,  0.0000]],\n",
      "       device='cuda:0')\n",
      "tensor([[208500.],\n",
      "        [181500.],\n",
      "        [223500.],\n",
      "        ...,\n",
      "        [266500.],\n",
      "        [142125.],\n",
      "        [147500.]], device='cuda:0')\n",
      "tensor([[-0.8736,  0.4582,  0.1844,  ...,  1.0000,  0.0000,  0.0000],\n",
      "        [-0.8736,  0.5010,  0.5198,  ...,  1.0000,  0.0000,  0.0000],\n",
      "        [ 0.0673,  0.2011,  0.4644,  ...,  1.0000,  0.0000,  0.0000],\n",
      "        ...,\n",
      "        [-0.8736,  3.8858,  1.2468,  ...,  0.0000,  0.0000,  0.0000],\n",
      "        [ 0.6554, -0.3130,  0.0346,  ...,  1.0000,  0.0000,  0.0000],\n",
      "        [ 0.0673,  0.2011, -0.0686,  ...,  1.0000,  0.0000,  0.0000]],\n",
      "       device='cuda:0')\n",
      "tensor([[208500.],\n",
      "        [181500.],\n",
      "        [223500.],\n",
      "        [140000.],\n",
      "        [250000.],\n",
      "        [143000.],\n",
      "        [307000.],\n",
      "        [200000.],\n",
      "        [129900.],\n",
      "        [118000.]], device='cuda:0')\n",
      "将模型迁移到cuda\n",
      "epoch: 99, train_ls: 0.243791, test_ls: 0.249654\n",
      "将模型迁移到cuda\n",
      "epoch: 99, train_ls: 0.207057, test_ls: 0.913883\n",
      "将模型迁移到cuda\n",
      "epoch: 99, train_ls: 0.187967, test_ls: 0.310483\n",
      "将模型迁移到cuda\n",
      "epoch: 99, train_ls: 0.141870, test_ls: 0.232780\n",
      "将模型迁移到cuda\n",
      "epoch: 99, train_ls: 0.298121, test_ls: 0.283154\n",
      "5-fold validation: avg train rmse 0.215761, avg valid rmse 0.397991\n"
     ]
    }
   ],
   "source": [
    "if __name__ == \"__main__\":\n",
    "    X, y, test_features = load_preprocess_data()\n",
    "    print(y[:10])\n",
    "    train_l, valid_l = k_fold(5, X, y)\n",
    "    print('%d-fold validation: avg train rmse %f, avg valid rmse %f' % (5, train_l, valid_l))\n",
    "    \n",
    "    "
   ]
  },
  {
   "cell_type": "code",
   "execution_count": null,
   "metadata": {},
   "outputs": [],
   "source": []
  },
  {
   "cell_type": "code",
   "execution_count": null,
   "metadata": {},
   "outputs": [],
   "source": []
  }
 ],
 "metadata": {
  "kernelspec": {
   "display_name": "Python 3",
   "language": "python",
   "name": "python3"
  },
  "language_info": {
   "codemirror_mode": {
    "name": "ipython",
    "version": 3
   },
   "file_extension": ".py",
   "mimetype": "text/x-python",
   "name": "python",
   "nbconvert_exporter": "python",
   "pygments_lexer": "ipython3",
   "version": "3.5.2"
  }
 },
 "nbformat": 4,
 "nbformat_minor": 2
}
