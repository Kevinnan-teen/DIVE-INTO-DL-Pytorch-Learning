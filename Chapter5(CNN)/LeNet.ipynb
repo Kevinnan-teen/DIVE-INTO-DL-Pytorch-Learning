{
 "cells": [
  {
   "cell_type": "code",
   "execution_count": 1,
   "metadata": {},
   "outputs": [],
   "source": [
    "import torch\n",
    "import torch.nn as nn\n",
    "import torchvision\n",
    "import torchvision.transforms as transforms\n",
    "from torchsummary import summary\n",
    "import torch.nn.functional as F\n",
    "import time\n",
    "import numpy as np"
   ]
  },
  {
   "cell_type": "markdown",
   "metadata": {},
   "source": [
    "## 读取数据"
   ]
  },
  {
   "cell_type": "code",
   "execution_count": null,
   "metadata": {},
   "outputs": [],
   "source": []
  },
  {
   "cell_type": "code",
   "execution_count": null,
   "metadata": {},
   "outputs": [],
   "source": []
  },
  {
   "cell_type": "markdown",
   "metadata": {},
   "source": [
    "## 定义模型"
   ]
  },
  {
   "cell_type": "code",
   "execution_count": 16,
   "metadata": {},
   "outputs": [],
   "source": [
    "class LeNetNModel(torch.nn.Module):\n",
    "    def __init__(self):\n",
    "        super(LeNetNModel, self).__init__()\n",
    "        self.conv1 = nn.Conv2d(in_channels=1, out_channels=6, kernel_size=5, padding=3)\n",
    "        self.subsampling1 = nn.MaxPool2d(2)\n",
    "        self.conv2 = nn.Conv2d(in_channels=6, out_channels=16, kernel_size=5)\n",
    "        self.subsampling2 = nn.MaxPool2d(2)\n",
    "        self.conv3 = nn.Conv2d(in_channels=16, out_channels=120, kernel_size=5)\n",
    "        self.linear1 = nn.Linear(120, 84)\n",
    "        self.linear2 = nn.Linear(84, 10)\n",
    "    def forward(self, x):\n",
    "        #x1 = F.sigmoid(self.conv1(x))\n",
    "        x1 = F.relu(self.conv1(x))\n",
    "        x2 = self.subsampling1(x1)\n",
    "        #x3 = F.sigmoid(self.conv2(x2))\n",
    "        x3 = F.relu(self.conv2(x2))\n",
    "        x4 = self.subsampling2(x3)\n",
    "        #x5 = F.sigmoid(self.conv3(x4))\n",
    "        x5 = F.relu(self.conv3(x4))\n",
    "        x6 = self.linear1(x5.view(x5.shape[0], -1))\n",
    "        y = self.linear2(x6)\n",
    "        return y\n",
    "    "
   ]
  },
  {
   "cell_type": "markdown",
   "metadata": {},
   "source": [
    "## 训练模型"
   ]
  },
  {
   "cell_type": "code",
   "execution_count": 17,
   "metadata": {},
   "outputs": [],
   "source": [
    "def training_loop(net, optimizer, loss, n_epochs, train_set, test_set, batch_size=64):\n",
    "    train_iter = torch.utils.data.DataLoader(dataset=train_set, batch_size=batch_size, shuffle=True)\n",
    "    test_iter = torch.utils.data.DataLoader(dataset=test_set, batch_size=batch_size, shuffle=False)\n",
    "    net = net.to('cuda')\n",
    "    for epoch in range(n_epochs):\n",
    "        train_loss_sum , batch_count, start = 0, 0, time.time()\n",
    "        for X, y in train_iter:\n",
    "            X = X.to('cuda')\n",
    "            y = y.to('cuda')\n",
    "            y_pre = net(X)\n",
    "            l = loss(y_pre, y)\n",
    "            optimizer.zero_grad()\n",
    "            l.backward()\n",
    "            optimizer.step()\n",
    "            train_loss_sum += l.item()\n",
    "            batch_count += 1\n",
    "        print(\"epochs: %d, loss: %2f, time: %2f sec\" % (epoch+1, train_loss_sum / batch_count, \n",
    "                                                       (time.time() - start)))\n",
    "        "
   ]
  },
  {
   "cell_type": "code",
   "execution_count": 19,
   "metadata": {},
   "outputs": [
    {
     "name": "stdout",
     "output_type": "stream",
     "text": [
      "LeNetNModel(\n",
      "  (conv1): Conv2d(1, 6, kernel_size=(5, 5), stride=(1, 1), padding=(3, 3))\n",
      "  (subsampling1): MaxPool2d(kernel_size=2, stride=2, padding=0, dilation=1, ceil_mode=False)\n",
      "  (conv2): Conv2d(6, 16, kernel_size=(5, 5), stride=(1, 1))\n",
      "  (subsampling2): MaxPool2d(kernel_size=2, stride=2, padding=0, dilation=1, ceil_mode=False)\n",
      "  (conv3): Conv2d(16, 120, kernel_size=(5, 5), stride=(1, 1))\n",
      "  (linear1): Linear(in_features=120, out_features=84, bias=True)\n",
      "  (linear2): Linear(in_features=84, out_features=10, bias=True)\n",
      ")\n",
      "epochs: 1, loss: 0.693027, time: 22.115390 sec\n",
      "epochs: 2, loss: 0.428100, time: 22.668360 sec\n",
      "epochs: 3, loss: 0.362321, time: 23.482848 sec\n",
      "epochs: 4, loss: 0.325018, time: 23.634640 sec\n",
      "epochs: 5, loss: 0.302060, time: 23.663747 sec\n"
     ]
    }
   ],
   "source": [
    "if __name__ == \"__main__\":\n",
    "    savePath = '../Chapter3/Fashion-MNIST/'\n",
    "    mnist_train = torchvision.datasets.FashionMNIST(root=savePath, train=True, download=True, transform=transforms.ToTensor())\n",
    "    mnist_test = torchvision.datasets.FashionMNIST(root=savePath, train=False, download=True, transform=transforms.ToTensor())\n",
    "    \n",
    "    lr = 0.001\n",
    "    batch_size = 128\n",
    "    n_epochs = 5\n",
    "    net = LeNetNModel()\n",
    "    optimizer = torch.optim.Adam(net.parameters(), lr=lr)\n",
    "    loss = torch.nn.CrossEntropyLoss()\n",
    "    print(net)\n",
    "    #summary(net.to('cuda'), (1, 28, 28))\n",
    "    training_loop(net=net, optimizer=optimizer, loss=loss, n_epochs=n_epochs, train_set=mnist_train,\n",
    "                  test_set=mnist_test, batch_size=batch_size)\n",
    "    "
   ]
  },
  {
   "cell_type": "code",
   "execution_count": null,
   "metadata": {},
   "outputs": [],
   "source": [
    "class Lenet(nn.Module):\n",
    "    def __init__(self):\n",
    "        super(Lenet, self).__init__()\n",
    "        self.conv = nn.Sequential(\n",
    "            nn.Conv2d(1, 6, 3, stride=1, padding=1),\n",
    "            nn.MaxPool2d(2, 2),\n",
    "            nn.Conv2d(6, 16, 5, stride=1, padding=0),\n",
    "            nn.MaxPool2d(2, 2),\n",
    "            nn.Conv2d(16, 120, 5)\n",
    "        )\n",
    "\n",
    "        self.fc = nn.Sequential(\n",
    "            #nn.Linear(400, 120),\n",
    "            nn.Linear(120, 84),\n",
    "            nn.Linear(84, 10)\n",
    "        )\n",
    "\n",
    "\n",
    "    def forward(self, x):\n",
    "        out = self.conv(x)\n",
    "        out = out.view(out.size(0), -1)\n",
    "        out = self.fc(out)\n",
    "        return out\n",
    "net2 = Lenet()\n",
    "summary(net2.to('cuda'), (1, 28, 28))"
   ]
  },
  {
   "cell_type": "code",
   "execution_count": null,
   "metadata": {},
   "outputs": [],
   "source": []
  },
  {
   "cell_type": "code",
   "execution_count": null,
   "metadata": {},
   "outputs": [],
   "source": []
  },
  {
   "cell_type": "code",
   "execution_count": null,
   "metadata": {},
   "outputs": [],
   "source": []
  },
  {
   "cell_type": "code",
   "execution_count": null,
   "metadata": {},
   "outputs": [],
   "source": []
  }
 ],
 "metadata": {
  "kernelspec": {
   "display_name": "Python 3",
   "language": "python",
   "name": "python3"
  },
  "language_info": {
   "codemirror_mode": {
    "name": "ipython",
    "version": 3
   },
   "file_extension": ".py",
   "mimetype": "text/x-python",
   "name": "python",
   "nbconvert_exporter": "python",
   "pygments_lexer": "ipython3",
   "version": "3.5.2"
  }
 },
 "nbformat": 4,
 "nbformat_minor": 2
}
